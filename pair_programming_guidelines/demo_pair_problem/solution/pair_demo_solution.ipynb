{
 "cells": [
  {
   "cell_type": "markdown",
   "metadata": {},
   "source": [
    "# Solution to Pair Demo: Pair Assignment"
   ]
  },
  {
   "cell_type": "code",
   "execution_count": 2,
   "metadata": {},
   "outputs": [],
   "source": [
    "def pairs_for(names):\n",
    "    n = len(names)\n",
    "    \n",
    "    # Need an even number of students, otherwise, we'll have a \"need-to-assign\" person\n",
    "    assert n % 2 == 0\n",
    "    \n",
    "    result = []\n",
    "    first = names[:n // 2]\n",
    "    second = names[n // 2:]\n",
    "    \n",
    "    # Everyone needs to be able to meet with everyone else (n - 1)\n",
    "    for _ in range(n - 1):\n",
    "        second.append(first.pop())\n",
    "        first.insert(1, second.pop(0))\n",
    "        result.append(list(zip(first, second)))\n",
    "        \n",
    "    return result"
   ]
  },
  {
   "cell_type": "code",
   "execution_count": 3,
   "metadata": {},
   "outputs": [
    {
     "data": {
      "text/plain": [
       "[[('Andrea', 'Doug'), ('Cassandra', 'Bob')],\n",
       " [('Andrea', 'Bob'), ('Doug', 'Cassandra')],\n",
       " [('Andrea', 'Cassandra'), ('Bob', 'Doug')]]"
      ]
     },
     "execution_count": 3,
     "metadata": {},
     "output_type": "execute_result"
    }
   ],
   "source": [
    "pairs_for(['Andrea', 'Bob', 'Cassandra', 'Doug'])"
   ]
  }
 ],
 "metadata": {
  "kernelspec": {
   "display_name": "Python 3",
   "language": "python",
   "name": "python3"
  },
  "language_info": {
   "codemirror_mode": {
    "name": "ipython",
    "version": 3
   },
   "file_extension": ".py",
   "mimetype": "text/x-python",
   "name": "python",
   "nbconvert_exporter": "python",
   "pygments_lexer": "ipython3",
   "version": "3.6.10"
  }
 },
 "nbformat": 4,
 "nbformat_minor": 4
}
